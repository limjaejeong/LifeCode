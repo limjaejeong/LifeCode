{
  "nbformat": 4,
  "nbformat_minor": 0,
  "metadata": {
    "colab": {
      "provenance": [],
      "authorship_tag": "ABX9TyNL674ufSRjjSH+un6COAmE",
      "include_colab_link": true
    },
    "kernelspec": {
      "name": "python3",
      "display_name": "Python 3"
    },
    "language_info": {
      "name": "python"
    }
  },
  "cells": [
    {
      "cell_type": "markdown",
      "metadata": {
        "id": "view-in-github",
        "colab_type": "text"
      },
      "source": [
        "<a href=\"https://colab.research.google.com/github/limjaejeong/LifeCode/blob/main/first_code_jpynb.ipynb\" target=\"_parent\"><img src=\"https://colab.research.google.com/assets/colab-badge.svg\" alt=\"Open In Colab\"/></a>"
      ]
    },
    {
      "cell_type": "code",
      "source": [
        "name = \"hello world\"\n",
        "print(name)"
      ],
      "metadata": {
        "colab": {
          "base_uri": "https://localhost:8080/"
        },
        "id": "pK1C3F4e3JK-",
        "outputId": "1507fb34-f8ae-480a-f8ff-67fd87d48b72"
      },
      "execution_count": 5,
      "outputs": [
        {
          "output_type": "stream",
          "name": "stdout",
          "text": [
            "hello world\n"
          ]
        }
      ]
    },
    {
      "cell_type": "markdown",
      "source": [
        "코딩 두번째. hello world 만들기"
      ],
      "metadata": {
        "id": "ulYxKkjh2-Gn"
      }
    },
    {
      "cell_type": "markdown",
      "source": [
        "나의 첫번째 코드"
      ],
      "metadata": {
        "id": "4vQuGfyKzxWw"
      }
    },
    {
      "cell_type": "code",
      "execution_count": 3,
      "metadata": {
        "colab": {
          "base_uri": "https://localhost:8080/"
        },
        "id": "gMCd-YKQy26q",
        "outputId": "a6e5697c-1dde-4ccb-a82b-42427221f572"
      },
      "outputs": [
        {
          "output_type": "stream",
          "name": "stdout",
          "text": [
            "limjaejeong\n"
          ]
        }
      ],
      "source": [
        "name = \"limjaejeong\";\n",
        "print(name)"
      ]
    }
  ]
}